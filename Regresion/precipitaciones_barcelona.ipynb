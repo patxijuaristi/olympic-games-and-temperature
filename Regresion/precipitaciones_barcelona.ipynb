{
 "cells": [
  {
   "attachments": {},
   "cell_type": "markdown",
   "metadata": {},
   "source": [
    "# Prediccion de precipitaciones"
   ]
  },
  {
   "cell_type": "code",
   "execution_count": 1,
   "metadata": {},
   "outputs": [],
   "source": [
    "import numpy as np\n",
    "import pandas as pd\n",
    "from sklearn.linear_model import LinearRegression\n",
    "from sklearn import metrics\n",
    "from sklearn.model_selection import train_test_split, GridSearchCV\n",
    "from sklearn.preprocessing import MinMaxScaler\n",
    "from sklearn.ensemble import RandomForestRegressor\n",
    "%matplotlib inline"
   ]
  },
  {
   "attachments": {},
   "cell_type": "markdown",
   "metadata": {},
   "source": [
    "## Preparar los datos\n",
    "Se trabaja solo con barcelona"
   ]
  },
  {
   "cell_type": "code",
   "execution_count": 2,
   "metadata": {},
   "outputs": [
    {
     "name": "stderr",
     "output_type": "stream",
     "text": [
      "C:\\Users\\Fran\\AppData\\Local\\Temp\\ipykernel_22816\\2659308374.py:1: DtypeWarning: Columns (2) have mixed types. Specify dtype option on import or set low_memory=False.\n",
      "  data = pd.read_csv('city_temperature.csv', header='infer',encoding='latin1')\n"
     ]
    }
   ],
   "source": [
    "data = pd.read_csv('city_temperature.csv', header='infer',encoding='latin1')\n",
    "\n",
    "ciudades = [\"Barcelona\"]\n",
    "data_filtered = data[data['City'].isin(ciudades)]\n",
    "data_filtered = data_filtered[['Day', 'Month', 'Year', 'AvgTemperature']]\n",
    "\n"
   ]
  },
  {
   "attachments": {},
   "cell_type": "markdown",
   "metadata": {},
   "source": [
    "## Sin procesamiento"
   ]
  },
  {
   "attachments": {},
   "cell_type": "markdown",
   "metadata": {},
   "source": [
    "### Lineal"
   ]
  },
  {
   "cell_type": "code",
   "execution_count": 3,
   "metadata": {},
   "outputs": [
    {
     "name": "stdout",
     "output_type": "stream",
     "text": [
      "RSQ2: 0.04276480453250264\n"
     ]
    }
   ],
   "source": [
    "X = data_filtered[['Day', 'Month', 'Year']]\n",
    "Y = data_filtered[\"AvgTemperature\"]\n",
    "\n",
    "# Do the regression as usual.\n",
    "lm = LinearRegression()\n",
    "lm.fit(X,Y)\n",
    "rsq2 = lm.score(X,Y)\n",
    "rmse2 = np.sqrt(metrics.mean_squared_error(Y, lm.predict(X)))\n",
    "print(\"RSQ2: \" + str(rsq2))"
   ]
  },
  {
   "attachments": {},
   "cell_type": "markdown",
   "metadata": {},
   "source": [
    "### Random forest"
   ]
  },
  {
   "cell_type": "code",
   "execution_count": 4,
   "metadata": {},
   "outputs": [
    {
     "name": "stdout",
     "output_type": "stream",
     "text": [
      "RSQ: 0.517665615267938\n",
      "RMSE: 10.408211898813382\n"
     ]
    }
   ],
   "source": [
    "# split the data into training and testing sets\n",
    "X = data_filtered[['Day', 'Month', 'Year']]\n",
    "Y = data_filtered['AvgTemperature']\n",
    "X_train, X_test, Y_train, Y_test = train_test_split(X, Y, test_size=0.2, random_state=42)\n",
    "\n",
    "# create a Random Forest regressor and fit the training data\n",
    "rf = RandomForestRegressor(n_estimators=150, random_state=42)\n",
    "rf.fit(X_train, Y_train)\n",
    "\n",
    "# predict on the test data and calculate the evaluation metrics\n",
    "y_pred = rf.predict(X_test)\n",
    "rsq = rf.score(X_test, Y_test)\n",
    "rmse = np.sqrt(metrics.mean_squared_error(Y_test, y_pred))\n",
    "print(\"RSQ: \" + str(rsq))\n",
    "print(\"RMSE: \" + str(rmse))"
   ]
  },
  {
   "attachments": {},
   "cell_type": "markdown",
   "metadata": {},
   "source": [
    "## Columnas normalizadas"
   ]
  },
  {
   "cell_type": "code",
   "execution_count": 5,
   "metadata": {},
   "outputs": [],
   "source": [
    "scaler = MinMaxScaler()\n",
    "scaled_data = data_filtered.copy()\n",
    "scaled_data.Day = scaler.fit_transform(data_filtered[['Day']])\n",
    "scaled_data.Month = scaler.fit_transform(data_filtered[['Month']])\n",
    "scaled_data.Year = scaler.fit_transform(data_filtered[['Year']])"
   ]
  },
  {
   "attachments": {},
   "cell_type": "markdown",
   "metadata": {},
   "source": [
    "### Lineal"
   ]
  },
  {
   "cell_type": "code",
   "execution_count": 6,
   "metadata": {},
   "outputs": [
    {
     "name": "stdout",
     "output_type": "stream",
     "text": [
      "RSQ2: 0.04276480453250264\n"
     ]
    }
   ],
   "source": [
    "X = scaled_data[['Day', 'Month', 'Year']]\n",
    "Y = scaled_data[\"AvgTemperature\"]\n",
    "\n",
    "# Do the regression as usual.\n",
    "lm = LinearRegression()\n",
    "lm.fit(X,Y)\n",
    "rsq2 = lm.score(X,Y)\n",
    "rmse2 = np.sqrt(metrics.mean_squared_error(Y, lm.predict(X)))\n",
    "print(\"RSQ2: \" + str(rsq2))"
   ]
  },
  {
   "attachments": {},
   "cell_type": "markdown",
   "metadata": {},
   "source": [
    "### Random forest"
   ]
  },
  {
   "cell_type": "code",
   "execution_count": 7,
   "metadata": {},
   "outputs": [
    {
     "name": "stdout",
     "output_type": "stream",
     "text": [
      "RSQ: 0.517665615267938\n",
      "RMSE: 10.408211898813382\n"
     ]
    }
   ],
   "source": [
    "# split the data into training and testing sets\n",
    "X = data_filtered[['Day', 'Month', 'Year']]\n",
    "Y = data_filtered['AvgTemperature']\n",
    "X_train, X_test, y_train, y_test = train_test_split(X, Y, test_size=0.2, random_state=42)\n",
    "\n",
    "# create a Random Forest regressor and fit the training data\n",
    "rf = RandomForestRegressor(n_estimators=150, random_state=42)\n",
    "rf.fit(X_train, y_train)\n",
    "\n",
    "# predict on the test data and calculate the evaluation metrics\n",
    "y_pred = rf.predict(X_test)\n",
    "rsq = rf.score(X_test, y_test)\n",
    "rmse = np.sqrt(metrics.mean_squared_error(y_test, y_pred))\n",
    "print(\"RSQ: \" + str(rsq))\n",
    "print(\"RMSE: \" + str(rmse))\n"
   ]
  },
  {
   "attachments": {},
   "cell_type": "markdown",
   "metadata": {},
   "source": [
    "## Random forest K optimizado"
   ]
  },
  {
   "cell_type": "code",
   "execution_count": 8,
   "metadata": {},
   "outputs": [],
   "source": [
    "# Parameter grid.\n",
    "k_grid = np.arange(80, 120, 1)\n",
    "parameters = {'n_estimators':k_grid}"
   ]
  },
  {
   "cell_type": "code",
   "execution_count": 9,
   "metadata": {},
   "outputs": [
    {
     "name": "stdout",
     "output_type": "stream",
     "text": [
      "Best k : 80\n"
     ]
    }
   ],
   "source": [
    "# split the data into training and testing sets\n",
    "X = scaled_data[['Day', 'Month', 'Year']]\n",
    "Y = scaled_data['AvgTemperature']\n",
    "X_train, X_test, Y_train, Y_test = train_test_split(X, Y, test_size=0.2, random_state=42)\n",
    "\n",
    "# Optimize the k.\n",
    "gridCV = GridSearchCV(RandomForestRegressor(), parameters, cv=10, n_jobs = -1)       # \"n_jobs = -1\" means \"use all the CPU cores\".\n",
    "gridCV.fit(X_train, Y_train)\n",
    "best_k = gridCV.best_params_['n_estimators']\n",
    "print(\"Best k : \" + str(best_k))"
   ]
  },
  {
   "cell_type": "code",
   "execution_count": 10,
   "metadata": {},
   "outputs": [
    {
     "name": "stdout",
     "output_type": "stream",
     "text": [
      "RSQ: 0.5185758379188519\n",
      "RMSE: 10.398386491075712\n"
     ]
    }
   ],
   "source": [
    "# split the data into training and testing sets\n",
    "X = data_filtered[['Day', 'Month', 'Year']]\n",
    "Y = data_filtered['AvgTemperature']\n",
    "X_train, X_test, y_train, y_test = train_test_split(X, Y, test_size=0.2, random_state=42)\n",
    "\n",
    "# create a Random Forest regressor and fit the training data\n",
    "rf = RandomForestRegressor(n_estimators=best_k, random_state=42)\n",
    "rf.fit(X_train, y_train)\n",
    "\n",
    "# predict on the test data and calculate the evaluation metrics\n",
    "y_pred = rf.predict(X_test)\n",
    "rsq = rf.score(X_test, y_test)\n",
    "rmse = np.sqrt(metrics.mean_squared_error(y_test, y_pred))\n",
    "print(\"RSQ: \" + str(rsq))\n",
    "print(\"RMSE: \" + str(rmse))"
   ]
  },
  {
   "attachments": {},
   "cell_type": "markdown",
   "metadata": {},
   "source": [
    "## Sin el dia"
   ]
  },
  {
   "cell_type": "code",
   "execution_count": 11,
   "metadata": {},
   "outputs": [
    {
     "name": "stdout",
     "output_type": "stream",
     "text": [
      "RSQ: 0.4780520726710181\n",
      "RMSE: 10.827186122339652\n"
     ]
    }
   ],
   "source": [
    "# split the data into training and testing sets\n",
    "X = scaled_data[['Month', 'Year']]\n",
    "Y = scaled_data['AvgTemperature']\n",
    "X_train, X_test, y_train, y_test = train_test_split(X, Y, test_size=0.2, random_state=42)\n",
    "\n",
    "# create a Random Forest regressor and fit the training data\n",
    "rf = RandomForestRegressor(n_estimators=100, random_state=42)\n",
    "rf.fit(X_train, y_train)\n",
    "\n",
    "# predict on the test data and calculate the evaluation metrics\n",
    "y_pred = rf.predict(X_test)\n",
    "rsq = rf.score(X_test, y_test)\n",
    "rmse = np.sqrt(metrics.mean_squared_error(y_test, y_pred))\n",
    "print(\"RSQ: \" + str(rsq))\n",
    "print(\"RMSE: \" + str(rmse))"
   ]
  },
  {
   "attachments": {},
   "cell_type": "markdown",
   "metadata": {},
   "source": [
    "## Outlayers"
   ]
  },
  {
   "cell_type": "code",
   "execution_count": 12,
   "metadata": {},
   "outputs": [],
   "source": [
    "data_filtered['AvgTemperature'] = data_filtered['AvgTemperature'].replace(-99, float('NaN'))\n",
    "data_filtered = data_filtered.dropna(subset=['AvgTemperature'])"
   ]
  },
  {
   "attachments": {},
   "cell_type": "markdown",
   "metadata": {},
   "source": [
    "#### Lineal"
   ]
  },
  {
   "cell_type": "code",
   "execution_count": 13,
   "metadata": {},
   "outputs": [
    {
     "name": "stdout",
     "output_type": "stream",
     "text": [
      "RSQ2: 0.08098331470517284\n"
     ]
    }
   ],
   "source": [
    "X = data_filtered[['Day', 'Month', 'Year']]\n",
    "Y = data_filtered[\"AvgTemperature\"]\n",
    "\n",
    "# Do the regression as usual.\n",
    "lm = LinearRegression()\n",
    "lm.fit(X,Y)\n",
    "rsq2 = lm.score(X,Y)\n",
    "rmse2 = np.sqrt(metrics.mean_squared_error(Y, lm.predict(X)))\n",
    "print(\"RSQ2: \" + str(rsq2))"
   ]
  },
  {
   "attachments": {},
   "cell_type": "markdown",
   "metadata": {},
   "source": [
    "#### Random Forest"
   ]
  },
  {
   "cell_type": "code",
   "execution_count": 14,
   "metadata": {},
   "outputs": [
    {
     "name": "stdout",
     "output_type": "stream",
     "text": [
      "RSQ: 0.9536664752794375\n",
      "RMSE: 2.2822734618103433\n"
     ]
    }
   ],
   "source": [
    "# split the data into training and testing sets\n",
    "X = data_filtered[['Day', 'Month', 'Year']]\n",
    "Y = data_filtered['AvgTemperature']\n",
    "X_train, X_test, y_train, y_test = train_test_split(X, Y, test_size=0.2, random_state=42)\n",
    "\n",
    "# create a Random Forest regressor and fit the training data\n",
    "rf = RandomForestRegressor(n_estimators=112, random_state=42)\n",
    "rf.fit(X_train, y_train)\n",
    "\n",
    "# predict on the test data and calculate the evaluation metrics\n",
    "y_pred = rf.predict(X_test)\n",
    "rsq = rf.score(X_test, y_test)\n",
    "rmse = np.sqrt(metrics.mean_squared_error(y_test, y_pred))\n",
    "print(\"RSQ: \" + str(rsq))\n",
    "print(\"RMSE: \" + str(rmse))"
   ]
  },
  {
   "attachments": {},
   "cell_type": "markdown",
   "metadata": {},
   "source": [
    "## Prueba real\n",
    "Hoy 4 de mayo de 2023 hay una maxima de 23º y una minima de 13º, una media d 18º"
   ]
  },
  {
   "cell_type": "code",
   "execution_count": 16,
   "metadata": {},
   "outputs": [
    {
     "name": "stdout",
     "output_type": "stream",
     "text": [
      "Temperatura: 19.28224206349212\n"
     ]
    }
   ],
   "source": [
    "# Crear una fila con los valores de las variables\n",
    "new_data_dict = {\n",
    "    'Day': 4,\n",
    "    'Month': 5,\n",
    "    'Year': 2023\n",
    "}\n",
    "\n",
    "\n",
    "# Convertir el diccionario en un dataframe\n",
    "new_data = pd.DataFrame([new_data_dict])\n",
    "print(f\"Temperatura: {( rf.predict(new_data)[0] - 32) * 5 / 9}\")"
   ]
  }
 ],
 "metadata": {
  "kernelspec": {
   "display_name": "Python 3",
   "language": "python",
   "name": "python3"
  },
  "language_info": {
   "codemirror_mode": {
    "name": "ipython",
    "version": 3
   },
   "file_extension": ".py",
   "mimetype": "text/x-python",
   "name": "python",
   "nbconvert_exporter": "python",
   "pygments_lexer": "ipython3",
   "version": "3.10.7"
  },
  "orig_nbformat": 4
 },
 "nbformat": 4,
 "nbformat_minor": 2
}
